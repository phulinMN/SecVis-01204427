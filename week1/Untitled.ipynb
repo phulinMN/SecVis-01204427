{
 "cells": [
  {
   "cell_type": "code",
   "execution_count": 256,
   "metadata": {
    "scrolled": true
   },
   "outputs": [],
   "source": [
    "import pandas as pd\n",
    "import csv\n",
    "import json\n",
    "import random\n",
    "df = pd.read_csv('./international.csv')\n",
    "# df"
   ]
  },
  {
   "cell_type": "code",
   "execution_count": 257,
   "metadata": {
    "scrolled": true
   },
   "outputs": [],
   "source": [
    "asn = df.ASN.unique()\n",
    "# asn"
   ]
  },
  {
   "cell_type": "code",
   "execution_count": 258,
   "metadata": {},
   "outputs": [
    {
     "name": "stdout",
     "output_type": "stream",
     "text": [
      "15669.002000000004\n"
     ]
    }
   ],
   "source": [
    "nodes = []\n",
    "\n",
    "sum_bw = 0\n",
    "all_sum = 0\n",
    "s = []\n",
    "for i in asn:\n",
    "    sum_bw = df[df['ASN']== i]['Bandwidth'].sum() + df[df['ASN-Source']== i]['Bandwidth'].sum()\n",
    "    all_sum += sum_bw\n",
    "    s.append(sum_bw)\n",
    "\n",
    "print(all_sum)\n",
    "for i in asn:\n",
    "    r = lambda: random.randint(0,255)\n",
    "    color = '#%02X%02X%02X' % (r(),r(),r())\n",
    "    sum_bw = df[df['ASN']== i]['Bandwidth'].sum() + df[df['ASN-Source']== i]['Bandwidth'].sum()\n",
    "    node = {\n",
    "        \"color\": color,\n",
    "        \"label\": i,\n",
    "        \"x\": 4.2,\n",
    "        \"y\": 4.2,\n",
    "        \"attributes\": {},\n",
    "        \"id\": i,\n",
    "        \"size\": (sum_bw/all_sum)*1000\n",
    "    }\n",
    "    nodes.append(node)\n",
    "edges = []\n",
    "for index, row in df.iterrows():\n",
    "    edge = {\n",
    "        \"sourceID\": row['ASN-Source'],\n",
    "        \"attributes\": {},\n",
    "        \"targetID\": row['ASN'],\n",
    "        \"size\": 1\n",
    "    }\n",
    "    edges.append(edge)\n",
    "filejson = json.dumps({'nodes': nodes, 'edges': edges}, indent=4, separators=(',', ': '))\\"
   ]
  },
  {
   "cell_type": "code",
   "execution_count": 260,
   "metadata": {
    "collapsed": true
   },
   "outputs": [],
   "source": [
    "with open('./international.json', 'w') as file:\n",
    "    file.write(filejson)"
   ]
  },
  {
   "cell_type": "code",
   "execution_count": null,
   "metadata": {
    "collapsed": true
   },
   "outputs": [],
   "source": []
  }
 ],
 "metadata": {
  "kernelspec": {
   "display_name": "Python 3",
   "language": "python",
   "name": "python3"
  },
  "language_info": {
   "codemirror_mode": {
    "name": "ipython",
    "version": 3
   },
   "file_extension": ".py",
   "mimetype": "text/x-python",
   "name": "python",
   "nbconvert_exporter": "python",
   "pygments_lexer": "ipython3",
   "version": "3.6.3"
  }
 },
 "nbformat": 4,
 "nbformat_minor": 2
}

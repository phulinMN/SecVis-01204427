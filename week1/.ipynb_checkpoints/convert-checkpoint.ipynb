{
 "cells": [
  {
   "cell_type": "code",
   "execution_count": 404,
   "metadata": {
    "collapsed": true,
    "scrolled": true
   },
   "outputs": [],
   "source": [
    "import pandas as pd\n",
    "import csv\n",
    "import json\n",
    "import random\n",
    "df_inter = pd.read_csv('./international.csv')\n",
    "df_domes = pd.read_csv('./domestic.csv')"
   ]
  },
  {
   "cell_type": "code",
   "execution_count": null,
   "metadata": {
    "collapsed": true
   },
   "outputs": [],
   "source": [
    "def csv_to_json(df, name):\n",
    "    asn = df.ASN.unique()\n",
    "    nodes = []\n",
    "\n",
    "    sum_bw = []\n",
    "    all_sum = 0\n",
    "    sort_asn = []\n",
    "    \n",
    "    for index, i in enumerate(asn):\n",
    "        n = df[df['ASN']== i]['Bandwidth'].sum() + df[df['ASN-Source']== i]['Bandwidth'].sum()\n",
    "        all_sum += n\n",
    "        sum_bw.append(n)\n",
    "    \n",
    "    for index,i in enumerate(sum_bw):\n",
    "        x = i\n",
    "        a = asn[index]\n",
    "        j = index - 1\n",
    "        while j >= 0 and sum_bw[j] > x:\n",
    "            sum_bw[j+1] = sum_bw[j]\n",
    "            asn[j+1] = asn[j]\n",
    "            j = j - 1\n",
    "        sum_bw[j+1] = x\n",
    "        asn[j+1] = a\n",
    "    \n",
    "    for index, i in enumerate(asn):\n",
    "        r = lambda: random.randint(0,255)\n",
    "        color = '#%02X%02X%02X' % (r(),r(),r())\n",
    "        label = df[df['ASN'] == i]['Name'].get_value()\n",
    "        print(label)\n",
    "        node = {\n",
    "            \"color\": color,\n",
    "            \"label\": i,\n",
    "            \"x\": 4.2,\n",
    "            \"y\": 4.2,\n",
    "            \"attributes\": {},\n",
    "            \"id\": i,\n",
    "            \"size\": (sum_bw[index]/all_sum)*300\n",
    "        }\n",
    "        nodes.append(node)\n",
    "\n",
    "    edges = []\n",
    "    for index, row in df.iterrows():\n",
    "        edge = {\n",
    "            \"sourceID\": row['ASN-Source'],\n",
    "            \"attributes\": {},\n",
    "            \"targetID\": row['ASN'],\n",
    "            \"size\": 1\n",
    "        }\n",
    "        edges.append(edge)\n",
    "    filejson = json.dumps({'nodes': nodes, 'edges': edges}, indent=4, separators=(',', ': '))\n",
    "    with open('./' + name + '.json', 'w') as file:\n",
    "        file.write(filejson)"
   ]
  },
  {
   "cell_type": "code",
   "execution_count": null,
   "metadata": {
    "collapsed": true
   },
   "outputs": [],
   "source": [
    "csv_to_json(df_inter, 'international')"
   ]
  },
  {
   "cell_type": "code",
   "execution_count": null,
   "metadata": {
    "collapsed": true
   },
   "outputs": [],
   "source": [
    "csv_to_json(df_domes, 'domestic')"
   ]
  },
  {
   "cell_type": "code",
   "execution_count": null,
   "metadata": {
    "collapsed": true
   },
   "outputs": [],
   "source": []
  }
 ],
 "metadata": {
  "kernelspec": {
   "display_name": "Python 3",
   "language": "python",
   "name": "python3"
  },
  "language_info": {
   "codemirror_mode": {
    "name": "ipython",
    "version": 3
   },
   "file_extension": ".py",
   "mimetype": "text/x-python",
   "name": "python",
   "nbconvert_exporter": "python",
   "pygments_lexer": "ipython3",
   "version": "3.6.3"
  }
 },
 "nbformat": 4,
 "nbformat_minor": 2
}
